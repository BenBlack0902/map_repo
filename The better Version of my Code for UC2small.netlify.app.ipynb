{
 "cells": [
  {
   "cell_type": "markdown",
   "metadata": {},
   "source": [
    "-- This is the better code for it : )\n",
    "by: Benjamin Karic 30.01.2024"
   ]
  },
  {
   "cell_type": "code",
   "execution_count": null,
   "metadata": {},
   "outputs": [],
   "source": [
    "import folium\n",
    "import pandas as pd\n",
    "import geopandas as gpd\n",
    "from folium.plugins import MarkerCluster\n",
    "\n",
    "# Read the first Excel file (with blue markers)\n",
    "blue_markers_file_path = r\"C:\\Users\\bkari\\Downloads\\Output_2.xlsx\"\n",
    "blue_markers_df = pd.read_excel(blue_markers_file_path)\n",
    "\n",
    "# Read the second Excel file (with pink markers)\n",
    "pink_markers_file_path = r\"C:\\Users\\bkari\\Downloads\\MTI_converted.xlsx\"\n",
    "pink_markers_df = pd.read_excel(pink_markers_file_path)\n",
    "\n",
    "# Drop rows where 'Lat_Y' or 'Long_X' is null for both datasets\n",
    "blue_markers_df = blue_markers_df.dropna(subset=['Lat_Y', 'Long_X'])\n",
    "pink_markers_df = pink_markers_df.dropna(subset=['Lat_Y', 'Long_X'])\n",
    "\n",
    "# Create GeoDataFrames from the DataFrames\n",
    "blue_markers_gdf = gpd.GeoDataFrame(blue_markers_df, geometry=gpd.points_from_xy(blue_markers_df['Long_X'], blue_markers_df['Lat_Y']))\n",
    "pink_markers_gdf = gpd.GeoDataFrame(pink_markers_df, geometry=gpd.points_from_xy(pink_markers_df['Long_X'], pink_markers_df['Lat_Y']))\n",
    "\n",
    "# Define latitude and longitude ranges that approximately cover Austria\n",
    "austria_lat_range = (46.372, 49.021)\n",
    "austria_lon_range = (9.530, 17.160)\n",
    "\n",
    "# Clip the blue markers to stay within the boundaries of Austria\n",
    "blue_markers_gdf = blue_markers_gdf.cx[austria_lon_range[0]:austria_lon_range[1], austria_lat_range[0]:austria_lat_range[1]]\n",
    "\n",
    "# Calculate the map center based on the clipped blue markers GeoDataFrame\n",
    "map_center = [blue_markers_gdf['Lat_Y'].mean(), blue_markers_gdf['Long_X'].mean()]\n",
    "\n",
    "# Create a folium map centered around Austria\n",
    "my_map = folium.Map(location=map_center, zoom_start=8, tiles='OpenStreetMap')\n",
    "\n",
    "# Fit the map to the boundaries of Austria\n",
    "my_map.fit_bounds([[austria_lat_range[0], austria_lon_range[0]],\n",
    "                   [austria_lat_range[1], austria_lon_range[1]]])\n",
    "\n",
    "# Add blue markers to the map with clustering!\n",
    "blue_cluster = MarkerCluster().add_to(my_map)\n",
    "for idx, row in blue_markers_gdf.iterrows():\n",
    "    popup_html = f\"<b>Sitecode:</b> {row['Sitecode']}<br>\"\n",
    "    for col in blue_markers_df.columns:\n",
    "        if col.startswith('Points'):\n",
    "            popup_html += f\"<b>{col}:</b> {row[col]}<br>\"\n",
    "    folium.Marker(location=[row['Lat_Y'], row['Long_X']], popup=popup_html, icon=folium.Icon(color='blue')).add_to(blue_cluster)\n",
    "\n",
    "# Add pink markers to the map with clustering\n",
    "pink_cluster = MarkerCluster().add_to(my_map)\n",
    "for idx, row in pink_markers_gdf.iterrows():\n",
    "    popup_html = f\"<b>UNIQUE_IDENTIFIER:</b> {row['UNIQUE_IDENTIFIER']}<br><b>STANDORTTYP:</b> {row['STANDORTTYP']}<br><b>ARGE_MTI:</b> {row['ARGE_MTI']}<br>\"\n",
    "    folium.Marker(location=[row['Lat_Y'], row['Long_X']], popup=popup_html, icon=folium.Icon(color='pink')).add_to(pink_cluster)\n",
    "\n",
    "# Save the map as an HTML file\n",
    "html_file_path = r'C:\\Users\\bkari\\Downloads\\combined_map_updated.html'\n",
    "my_map.save(html_file_path)\n",
    "print(f\"Map saved to {html_file_path}\")\n"
   ]
  },
  {
   "cell_type": "code",
   "execution_count": null,
   "metadata": {},
   "outputs": [],
   "source": []
  },
  {
   "cell_type": "code",
   "execution_count": null,
   "metadata": {},
   "outputs": [],
   "source": []
  },
  {
   "cell_type": "code",
   "execution_count": null,
   "metadata": {},
   "outputs": [],
   "source": []
  },
  {
   "cell_type": "code",
   "execution_count": null,
   "metadata": {},
   "outputs": [],
   "source": []
  },
  {
   "cell_type": "code",
   "execution_count": null,
   "metadata": {},
   "outputs": [],
   "source": []
  },
  {
   "cell_type": "code",
   "execution_count": null,
   "metadata": {},
   "outputs": [],
   "source": []
  },
  {
   "cell_type": "code",
   "execution_count": null,
   "metadata": {},
   "outputs": [],
   "source": []
  },
  {
   "cell_type": "code",
   "execution_count": null,
   "metadata": {},
   "outputs": [],
   "source": []
  },
  {
   "cell_type": "code",
   "execution_count": null,
   "metadata": {},
   "outputs": [],
   "source": []
  },
  {
   "cell_type": "code",
   "execution_count": null,
   "metadata": {},
   "outputs": [],
   "source": []
  },
  {
   "cell_type": "code",
   "execution_count": null,
   "metadata": {},
   "outputs": [],
   "source": []
  },
  {
   "cell_type": "code",
   "execution_count": null,
   "metadata": {},
   "outputs": [],
   "source": []
  }
 ],
 "metadata": {
  "kernelspec": {
   "display_name": "Python 3",
   "language": "python",
   "name": "python3"
  },
  "language_info": {
   "codemirror_mode": {
    "name": "ipython",
    "version": 3
   },
   "file_extension": ".py",
   "mimetype": "text/x-python",
   "name": "python",
   "nbconvert_exporter": "python",
   "pygments_lexer": "ipython3",
   "version": "3.8.5"
  }
 },
 "nbformat": 4,
 "nbformat_minor": 4
}
